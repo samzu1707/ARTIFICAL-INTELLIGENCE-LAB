{
 "cells": [
  {
   "cell_type": "markdown",
   "id": "9d63b679",
   "metadata": {},
   "source": [
    "### **`A*Algorithm`** ###\n"
   ]
  },
  {
   "cell_type": "code",
   "execution_count": 24,
   "id": "a636a3af",
   "metadata": {},
   "outputs": [
    {
     "name": "stdout",
     "output_type": "stream",
     "text": [
      "Path found: ['A', 'B', 'D']\n"
     ]
    },
    {
     "data": {
      "text/plain": [
       "['A', 'B', 'D']"
      ]
     },
     "execution_count": 24,
     "metadata": {},
     "output_type": "execute_result"
    }
   ],
   "source": [
    "from collections import deque\n",
    "\n",
    "class Graph:\n",
    "    def __init__(self, adjacency_list):\n",
    "        self.adjacency_list = adjacency_list\n",
    "\n",
    "    def get_neighbors(self, v):\n",
    "        return self.adjacency_list[v]\n",
    "\n",
    "    def h(self, n):\n",
    "        H = {\n",
    "            'A': 7,\n",
    "            'B': 4,\n",
    "            'C': 6,\n",
    "            'D': 0   \n",
    "        }\n",
    "        return H[n]\n",
    "\n",
    "    def a_star_algorithm(self, start_node, stop_node):\n",
    "        open_list = set([start_node])\n",
    "        closed_list = set([])\n",
    "\n",
    "        g = {start_node: 0}\n",
    "\n",
    "        parents = {start_node: start_node}\n",
    "\n",
    "        while len(open_list) > 0:\n",
    "            n = None\n",
    "\n",
    "            for v in open_list:\n",
    "                if n is None or g[v] + self.h(v) < g[n] + self.h(n):\n",
    "                    n = v\n",
    "\n",
    "            if n is None:\n",
    "                print('Path does not exist!')\n",
    "                return None\n",
    "\n",
    "            if n == stop_node:\n",
    "                reconst_path = []\n",
    "                while parents[n] != n:\n",
    "                    reconst_path.append(n)\n",
    "                    n = parents[n]\n",
    "                reconst_path.append(start_node)\n",
    "                reconst_path.reverse()\n",
    "                print('Path found:', reconst_path)\n",
    "                return reconst_path\n",
    "            \n",
    "            for (m, weight) in self.get_neighbors(n):\n",
    "                if m not in open_list and m not in closed_list:\n",
    "                    open_list.add(m)\n",
    "                    parents[m] = n\n",
    "                    g[m] = g[n] + weight\n",
    "                else:\n",
    "                    if g[m] > g[n] + weight:\n",
    "                        g[m] = g[n] + weight\n",
    "                        parents[m] = n\n",
    "                        if m in closed_list:\n",
    "                            closed_list.remove(m)\n",
    "                            open_list.add(m)\n",
    "\n",
    "            open_list.remove(n)\n",
    "            closed_list.add(n)\n",
    "\n",
    "        print('Path does not exist!')\n",
    "        return None\n",
    "\n",
    "adjacency_list = {\n",
    "    'A': [('B', 1), ('C', 3), ('D', 7)],\n",
    "    'B': [('D', 5)],\n",
    "    'C': [('D', 12)]\n",
    "}\n",
    "\n",
    "graph1 = Graph(adjacency_list)\n",
    "graph1.a_star_algorithm('A', 'D')\n"
   ]
  }
 ],
 "metadata": {
  "kernelspec": {
   "display_name": "Python 3",
   "language": "python",
   "name": "python3"
  },
  "language_info": {
   "codemirror_mode": {
    "name": "ipython",
    "version": 3
   },
   "file_extension": ".py",
   "mimetype": "text/x-python",
   "name": "python",
   "nbconvert_exporter": "python",
   "pygments_lexer": "ipython3",
   "version": "3.13.5"
  }
 },
 "nbformat": 4,
 "nbformat_minor": 5
}
