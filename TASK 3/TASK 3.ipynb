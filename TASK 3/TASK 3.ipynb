{
 "cells": [
  {
   "cell_type": "markdown",
   "id": "fe90db1a",
   "metadata": {},
   "source": [
    "### **_Smart Home Temperature Control_** ###"
   ]
  },
  {
   "cell_type": "code",
   "execution_count": 2,
   "id": "88860cb0",
   "metadata": {},
   "outputs": [
    {
     "name": "stdout",
     "output_type": "stream",
     "text": [
      "\n",
      " Cycle 1 \n",
      "Bedroom: Temp = 22°C → Turn off heater\n",
      "Kitchen: Temp = 20°C → Turn on heater\n",
      "\n",
      " Cycle 2 \n",
      "Bedroom: Temp = 20°C → Turn on heater\n",
      "Kitchen: Temp = 25°C → Turn off heater\n",
      "\n",
      " Cycle 3 \n",
      "Bedroom: Temp = 22°C → Turn off heater\n",
      "Kitchen: Temp = 22°C → No change needed (Heater already off)\n"
     ]
    }
   ],
   "source": [
    "class ModelBasedReflexAgent:\n",
    "    def __init__(self, desired_temperature):\n",
    "        self.desired_temperature = desired_temperature\n",
    "        self.previous_actions = {}\n",
    "\n",
    "    def perceive(self, room, current_temperature):\n",
    "        return (room, current_temperature)\n",
    "\n",
    "    def act(self, room, current_temperature):\n",
    "    \n",
    "        if current_temperature < self.desired_temperature:\n",
    "            action = \"Turn on heater\"\n",
    "        else:\n",
    "            action = \"Turn off heater\"\n",
    "\n",
    "        if room in self.previous_actions and self.previous_actions[room] == action:\n",
    "            return f\"No change needed (Heater already {action.split()[1]})\"\n",
    "        \n",
    "        self.previous_actions[room] = action\n",
    "        return action\n",
    "\n",
    "\n",
    "rooms = {\n",
    "    \"Bedroom\": [22, 20, 22],\n",
    "    \"Kitchen\": [20, 25, 22],\n",
    "}\n",
    "\n",
    "desired_temperature = 22\n",
    "agent = ModelBasedReflexAgent(desired_temperature)\n",
    "\n",
    "for cycle in range(3):\n",
    "    print(f\"\\n Cycle {cycle + 1} \")\n",
    "    for room, temps in rooms.items():\n",
    "        current_temp = temps[cycle]\n",
    "        action = agent.act(room, current_temp)\n",
    "        print(f\"{room}: Temp = {current_temp}°C → {action}\")\n"
   ]
  }
 ],
 "metadata": {
  "kernelspec": {
   "display_name": "Python 3",
   "language": "python",
   "name": "python3"
  },
  "language_info": {
   "codemirror_mode": {
    "name": "ipython",
    "version": 3
   },
   "file_extension": ".py",
   "mimetype": "text/x-python",
   "name": "python",
   "nbconvert_exporter": "python",
   "pygments_lexer": "ipython3",
   "version": "3.13.5"
  }
 },
 "nbformat": 4,
 "nbformat_minor": 5
}
