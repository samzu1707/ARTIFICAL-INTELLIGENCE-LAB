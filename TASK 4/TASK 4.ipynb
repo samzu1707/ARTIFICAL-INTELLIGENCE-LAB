{
 "cells": [
  {
   "cell_type": "markdown",
   "id": "4f78e133",
   "metadata": {},
   "source": [
    "### **_LUHN ALGORITHM_** ###"
   ]
  },
  {
   "cell_type": "code",
   "execution_count": 4,
   "id": "d052adbb",
   "metadata": {},
   "outputs": [
    {
     "name": "stdout",
     "output_type": "stream",
     "text": [
      "Invalid Card\n"
     ]
    }
   ],
   "source": [
    "def luhn_algorithm(card_number):\n",
    "\n",
    "    digits = [int(d) for d in str(card_number)]\n",
    "    check_digit = digits.pop()\n",
    "    digits.reverse()\n",
    "    \n",
    "    for i in range(0, len(digits), 2):\n",
    "        digits[i] *= 2\n",
    "        if digits[i] > 9:\n",
    "            digits[i] -= 9\n",
    "    total = sum(digits) + check_digit\n",
    "    return total % 10 == 0\n",
    "\n",
    "card = 5893804115457284\n",
    "print(\"Valid Card\" if luhn_algorithm(card) else \"Invalid Card\")\n",
    "def luhn_algorithm(card_number):\n",
    "    \n",
    "    digits = [int(d) for d in str(card_number)]\n",
    "    check_digit = digits.pop()\n",
    "    digits.reverse()\n",
    "    \n",
    "    for i in range(0, len(digits), 2):\n",
    "        digits[i] *= 2\n",
    "        if digits[i] > 9:\n",
    "            digits[i] -= 9\n",
    "    \n",
    "    total = sum(digits) + check_digit\n",
    "    return total % 10 == 0\n"
   ]
  },
  {
   "cell_type": "markdown",
   "id": "4511c367",
   "metadata": {},
   "source": [
    "### **_REMOVE PUNCTUATIONS_** ###"
   ]
  },
  {
   "cell_type": "code",
   "execution_count": null,
   "id": "85efaf67",
   "metadata": {},
   "outputs": [
    {
     "name": "stdout",
     "output_type": "stream",
     "text": [
      "Without Punctuation: mynmEssamrzulfiqar\n"
     ]
    }
   ],
   "source": [
    "def remove_punctuation(input_string):\n",
    "    punctuation = ''' ! ( ) - [ ] { } ; : ' \" , < > . / ? @ # $ % ^ & * _ ~ '''\n",
    "    result = \"\"\n",
    "    for char in input_string:\n",
    "        if char not in punctuation:\n",
    "            result += char\n",
    "    return result\n",
    "\n",
    "text = \"my,n@mE !s samr@< zulfiqar\"\n",
    "print(\"Without Punctuation:\", remove_punctuation(text))"
   ]
  },
  {
   "cell_type": "markdown",
   "id": "66b524cd",
   "metadata": {},
   "source": [
    "### **_SORTING BY WORD_** ###"
   ]
  },
  {
   "cell_type": "code",
   "execution_count": null,
   "id": "7d4f5101",
   "metadata": {},
   "outputs": [
    {
     "name": "stdout",
     "output_type": "stream",
     "text": [
      "Sort by Word: budHA Daska district ghanoke goraya P/O Sialkot teHsil Village\n"
     ]
    }
   ],
   "source": [
    "def sort_by_word(sentence):\n",
    "    words = sentence.split()\n",
    "    n = len(words)\n",
    "\n",
    "    for i in range(n - 1):\n",
    "        for j in range(n - 1 - i):\n",
    "            if words[j].lower() > words[j + 1].lower():\n",
    "                words[j], words[j + 1] = words[j + 1], words[j]\n",
    "    return \" \".join(words)\n",
    "\n",
    "sentence = \"Village ghanoke P/O budHA goraya teHsil Daska district Sialkot\"\n",
    "print(\"Sort by Word:\", sort_by_word(sentence))"
   ]
  },
  {
   "cell_type": "markdown",
   "id": "5a22e6e8",
   "metadata": {},
   "source": [
    "### **_SORTING BY LETTER_** ###"
   ]
  },
  {
   "cell_type": "code",
   "execution_count": null,
   "id": "e200efc6",
   "metadata": {},
   "outputs": [
    {
     "name": "stdout",
     "output_type": "stream",
     "text": [
      "Sort by Letter: aaAaaaaAbcdDDeeeggghHHiiiIIkkkllllnoOooPrrsssSttttuVy\n"
     ]
    }
   ],
   "source": [
    "def sort_by_letter(sentence):\n",
    "    letters = [ch for ch in sentence if ch.isalpha()]\n",
    "    n = len(letters)\n",
    "\n",
    "    for i in range(n - 1):\n",
    "        for j in range(n - 1 - i):\n",
    "            if letters[j].lower() > letters[j + 1].lower():\n",
    "                letters[j], letters[j + 1] = letters[j + 1], letters[j]\n",
    "    return \"\".join(letters)\n",
    "\n",
    "sentence = \"Village ghanoke P/O budHA goraya teHsil Daska DistrIct SIAlkot\"\n",
    "print(\"Sort by Letter:\", sort_by_letter(sentence))"
   ]
  }
 ],
 "metadata": {
  "kernelspec": {
   "display_name": "Python 3",
   "language": "python",
   "name": "python3"
  },
  "language_info": {
   "codemirror_mode": {
    "name": "ipython",
    "version": 3
   },
   "file_extension": ".py",
   "mimetype": "text/x-python",
   "name": "python",
   "nbconvert_exporter": "python",
   "pygments_lexer": "ipython3",
   "version": "3.13.5"
  }
 },
 "nbformat": 4,
 "nbformat_minor": 5
}
