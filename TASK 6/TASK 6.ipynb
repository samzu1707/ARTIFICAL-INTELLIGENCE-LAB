{
 "cells": [
  {
   "cell_type": "markdown",
   "id": "09e3d7c9",
   "metadata": {},
   "source": [
    "### **_BFS WITHOUT QUEUE_** ###"
   ]
  },
  {
   "cell_type": "code",
   "execution_count": 3,
   "id": "d1da78ea",
   "metadata": {},
   "outputs": [
    {
     "name": "stdout",
     "output_type": "stream",
     "text": [
      "BFS without Queue: [0, 1, 2, 3, 4, 5]\n"
     ]
    }
   ],
   "source": [
    "graph = {\n",
    "    0: [1, 2],\n",
    "    1: [0, 3],\n",
    "    2: [0, 4],\n",
    "    3: [1, 5],\n",
    "    4: [2],\n",
    "    5: [3]\n",
    "}\n",
    "visited = []\n",
    "\n",
    "def bfs_without_queue(level_nodes):\n",
    "    next_level = []\n",
    "    for node in level_nodes:\n",
    "        if node not in visited:\n",
    "            visited.append(node)\n",
    "            for neighbor in graph[node]:\n",
    "                if neighbor not in visited:\n",
    "                    next_level.append(neighbor)\n",
    "    if next_level:\n",
    "        bfs_without_queue(next_level)\n",
    "\n",
    "bfs_without_queue([0])\n",
    "print(\"BFS without Queue:\", visited)\n"
   ]
  },
  {
   "cell_type": "markdown",
   "id": "1e7cbadd",
   "metadata": {},
   "source": [
    "### **_BFS WITH QUEUE_** ###"
   ]
  },
  {
   "cell_type": "code",
   "execution_count": 4,
   "id": "14993be3",
   "metadata": {},
   "outputs": [
    {
     "name": "stdout",
     "output_type": "stream",
     "text": [
      "BFS with Queue: [0, 1, 2, 3, 4, 5]\n"
     ]
    }
   ],
   "source": [
    "graph = {\n",
    "    0: [1, 2],\n",
    "    1: [0, 3],\n",
    "    2: [0, 4],\n",
    "    3: [1, 5],\n",
    "    4: [2],\n",
    "    5: [3]\n",
    "}\n",
    "\n",
    "def bfs_with_queue(start):\n",
    "    visited = []\n",
    "    queue = [start]\n",
    "\n",
    "    while queue:\n",
    "        node = queue.pop(0)\n",
    "        if node not in visited:\n",
    "            visited.append(node)\n",
    "            for neighbor in graph[node]:\n",
    "                if neighbor not in visited:\n",
    "                    queue.append(neighbor)\n",
    "    return visited\n",
    "\n",
    "print(\"BFS with Queue:\", bfs_with_queue(0))\n"
   ]
  },
  {
   "cell_type": "markdown",
   "id": "93a10aa9",
   "metadata": {},
   "source": [
    "### **_BFS WITHOUT NODE_** ###"
   ]
  },
  {
   "cell_type": "code",
   "execution_count": 5,
   "id": "eaad2796",
   "metadata": {},
   "outputs": [
    {
     "name": "stdout",
     "output_type": "stream",
     "text": [
      "BFS without Node: [0, 1, 2, 3, 4, 5]\n"
     ]
    }
   ],
   "source": [
    "graph = {\n",
    "    0: [1, 2],\n",
    "    1: [0, 3],\n",
    "    2: [0, 4],\n",
    "    3: [1, 5],\n",
    "    4: [2],\n",
    "    5: [3]\n",
    "}\n",
    "\n",
    "def bfs_without_node(start):\n",
    "    visited = []\n",
    "    queue = [start]\n",
    "\n",
    "    while queue:\n",
    "        node = queue.pop(0)\n",
    "        if node not in visited:\n",
    "            visited.append(node)\n",
    "            for neighbor in graph[node]:\n",
    "                if neighbor not in visited:\n",
    "                    queue.append(neighbor)\n",
    "    return visited\n",
    "\n",
    "print(\"BFS without Node:\", bfs_without_node(0))\n"
   ]
  },
  {
   "cell_type": "markdown",
   "id": "f495daad",
   "metadata": {},
   "source": [
    "### **_BFS WITH NODE_** ###"
   ]
  },
  {
   "cell_type": "code",
   "execution_count": null,
   "id": "73072869",
   "metadata": {},
   "outputs": [
    {
     "name": "stdout",
     "output_type": "stream",
     "text": [
      "BFS with Node: [0, 1, 2, 3, 4, 5]\n"
     ]
    }
   ],
   "source": [
    "class Node:\n",
    "    def __init__(self, data):\n",
    "        self.data = data\n",
    "        self.neighbors = []\n",
    "\n",
    "def bfs_with_node(start):\n",
    "    visited = []\n",
    "    queue = [start]\n",
    "\n",
    "    while queue:\n",
    "        node = queue.pop(0)\n",
    "        if node not in visited:\n",
    "            visited.append(node)\n",
    "            for neighbor in node.neighbors:\n",
    "                if neighbor not in visited:\n",
    "                    queue.append(neighbor)\n",
    "    return [n.data for n in visited]\n",
    "\n",
    "n0 = Node(0)\n",
    "n1 = Node(1)\n",
    "n2 = Node(2)\n",
    "n3 = Node(3)\n",
    "n4 = Node(4)\n",
    "n5 = Node(5)\n",
    "\n",
    "n0.neighbors = [n1, n2]\n",
    "n1.neighbors = [n0, n3]\n",
    "n2.neighbors = [n0, n4]\n",
    "n3.neighbors = [n1, n5]\n",
    "n4.neighbors = [n2]\n",
    "n5.neighbors = [n3]\n",
    "\n",
    "print(\"BFS with Node:\", bfs_with_node(n0))\n"
   ]
  }
 ],
 "metadata": {
  "kernelspec": {
   "display_name": "Python 3",
   "language": "python",
   "name": "python3"
  },
  "language_info": {
   "codemirror_mode": {
    "name": "ipython",
    "version": 3
   },
   "file_extension": ".py",
   "mimetype": "text/x-python",
   "name": "python",
   "nbconvert_exporter": "python",
   "pygments_lexer": "ipython3",
   "version": "3.13.5"
  }
 },
 "nbformat": 4,
 "nbformat_minor": 5
}
