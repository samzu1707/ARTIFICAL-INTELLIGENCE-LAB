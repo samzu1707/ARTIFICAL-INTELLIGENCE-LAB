{
 "cells": [
  {
   "cell_type": "markdown",
   "id": "194de8eb",
   "metadata": {},
   "source": [
    "### **_FIZZ & BUZZ GAME_** ###"
   ]
  },
  {
   "cell_type": "code",
   "execution_count": 7,
   "id": "8387e44a",
   "metadata": {},
   "outputs": [
    {
     "name": "stdout",
     "output_type": "stream",
     "text": [
      "Welcome to My World of FizzBuzz GAME!\n",
      "Rules:\n",
      "  Computer (Player 1) and You (Player 2) will play turn by turn.\n",
      "  If anyone gives a wrong answer, the game ends immediately.\n",
      "\n",
      "\n",
      "Player 1: 0\n",
      "Computer Answer: 0\n",
      "Correct!\n",
      "\n",
      "SAMRA: 1\n",
      "Correct!\n",
      "\n",
      "Player 1: 1\n",
      "Computer Answer: 1\n",
      "Correct!\n",
      "\n",
      "SAMRA: 2\n",
      "Wrong! SAMRA lost. The correct answer was: 2\n",
      "\n",
      " Thanks for playing FizzBuzz! Goodbye!\n"
     ]
    }
   ],
   "source": [
    "import random\n",
    "\n",
    "def fizzbuzz_game():\n",
    "    print(\"Welcome to My World of FizzBuzz GAME!\")\n",
    "    print(\"Rules:\")\n",
    "    print(\"  Computer (Player 1) and You (Player 2) will play turn by turn.\")\n",
    "    print(\"  If anyone gives a wrong answer, the game ends immediately.\\n\")\n",
    "\n",
    "    player2_name = input(\"Enter your name: \")\n",
    "\n",
    "    turn = 0\n",
    "    a, b = 0, 1\n",
    "\n",
    "    for _ in range(1, 21):\n",
    "        number = a\n",
    "        a, b = b, a + b\n",
    "\n",
    "        if number == 0:\n",
    "            correct = \"0\"\n",
    "        elif number % 3 == 0 and number % 5 == 0:\n",
    "            correct = \"Fizz Buzz\"\n",
    "        elif number % 3 == 0:\n",
    "            correct = \"Fizz\"\n",
    "        elif number % 5 == 0:\n",
    "            correct = \"Buzz\"\n",
    "        else:\n",
    "            correct = str(number)\n",
    "\n",
    "        if turn == 0:\n",
    "            print(f\"\\nPlayer 1: {number}\")\n",
    "\n",
    "            if random.random() < 0.1:\n",
    "                wrong_options = [\"Fizz\", \"Buzz\", \"Fizz Buzz\", str(random.randint(1, 100))]\n",
    "                computer_answer = random.choice(wrong_options)\n",
    "            else:\n",
    "                computer_answer = correct\n",
    "\n",
    "            print(f\"Computer Answer: {computer_answer}\")\n",
    "\n",
    "            if computer_answer.lower() == correct.lower():\n",
    "                print(\"Correct!\")\n",
    "                turn = 1\n",
    "            else:\n",
    "                print(f\"Wrong! Computer lost. The correct answer was: {correct}\")\n",
    "                return\n",
    "\n",
    "        else:\n",
    "            print(f\"\\n{player2_name}: {number}\")\n",
    "            answer = input(\"Your Answer: \")\n",
    "\n",
    "            if answer.strip().lower() == correct.lower():\n",
    "                print(\"Correct!\")\n",
    "                turn = 0\n",
    "            else:\n",
    "                print(f\"Wrong! {player2_name} lost. The correct answer was: {correct}\")\n",
    "                return\n",
    "\n",
    "while True:\n",
    "    fizzbuzz_game()\n",
    "    again = input(\"\\nDo you want to play again? (YES/NO): \")\n",
    "    if again.lower() != \"YES\":\n",
    "        print(\"\\n Thanks for playing FizzBuzz! Goodbye!\")\n",
    "        break\n"
   ]
  },
  {
   "cell_type": "markdown",
   "id": "15b32871",
   "metadata": {},
   "source": [
    "### ***_BUDGET CALCULATION_*** ###"
   ]
  },
  {
   "cell_type": "code",
   "execution_count": 8,
   "id": "3fe01823",
   "metadata": {},
   "outputs": [
    {
     "name": "stdout",
     "output_type": "stream",
     "text": [
      "\n",
      "Average movie budget: 137433719.6\n",
      "\n",
      "Movies with budget higher than average:\n",
      " MOVIE: Hacked , BUDGET: 379000000 (Above average by 241566280.4)\n",
      " MOVIE: K.G.F , BUDGET: 365000000 (Above average by 227566280.4)\n",
      " MOVIE: Cruella , BUDGET: 356000000 (Above average by 218566280.4)\n",
      " MOVIE: Incredibles 2 , BUDGET: 200000000 (Above average by 62566280.400000006)\n",
      "\n",
      "Number of movies above average: 4\n"
     ]
    }
   ],
   "source": [
    "movies = [\n",
    "    (\"Wild Robot\", 20000000),\n",
    "    (\"Memento\", 9000000),\n",
    "    (\"Brave\", 4500000),\n",
    "    (\"Hacked\", 379000000),\n",
    "    (\"K.G.F\", 365000000),\n",
    "    (\"Cruella\", 356000000),\n",
    "    (\"Incredibles 2\", 200000000)\n",
    "]\n",
    "num_new = int(input(\"How many movies do you want to add?\"))\n",
    "\n",
    "for i in range(num_new):\n",
    "    name = input(f\"Enter movie {i+1} name: \")\n",
    "    budget = int(input(f\"Enter budget for '{name}': \"))\n",
    "    movies.append((name, budget))\n",
    "\n",
    "total_budget = sum(budget for _, budget in movies)\n",
    "average_budget = total_budget / len(movies)\n",
    "\n",
    "print(\"\\nAverage movie budget:\", average_budget)\n",
    "print(\"\\nMovies with budget higher than average:\")\n",
    "\n",
    "count_above = 0\n",
    "for name, budget in movies:\n",
    "    if budget > average_budget:\n",
    "        difference = budget - average_budget\n",
    "        print(f\" MOVIE: {name} , BUDGET: {budget} (Above average by {difference})\")\n",
    "        count_above += 1\n",
    "\n",
    "print(f\"\\nNumber of movies above average: {count_above}\")"
   ]
  }
 ],
 "metadata": {
  "kernelspec": {
   "display_name": "Python 3",
   "language": "python",
   "name": "python3"
  },
  "language_info": {
   "codemirror_mode": {
    "name": "ipython",
    "version": 3
   },
   "file_extension": ".py",
   "mimetype": "text/x-python",
   "name": "python",
   "nbconvert_exporter": "python",
   "pygments_lexer": "ipython3",
   "version": "3.13.5"
  }
 },
 "nbformat": 4,
 "nbformat_minor": 5
}
