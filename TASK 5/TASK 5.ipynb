{
 "cells": [
  {
   "cell_type": "markdown",
   "id": "b4c9f007",
   "metadata": {},
   "source": [
    "### **_DFS WITH STACK_** ###"
   ]
  },
  {
   "cell_type": "code",
   "execution_count": 1,
   "id": "f12f58f9",
   "metadata": {},
   "outputs": [
    {
     "name": "stdout",
     "output_type": "stream",
     "text": [
      "DFS using Stack:\n",
      "A B D E F C "
     ]
    }
   ],
   "source": [
    "Graph = {\n",
    "    'A': ['B', 'C'],\n",
    "    'B': ['D', 'E'],\n",
    "    'C': ['F'],\n",
    "    'D': [],\n",
    "    'E': ['F'],\n",
    "    'F': []\n",
    "}\n",
    "def dfs_stack(start):\n",
    "    visited = set()\n",
    "    stack = [start]\n",
    "\n",
    "    while stack:\n",
    "        node = stack.pop()\n",
    "        if node not in visited:\n",
    "            print(node, end=\" \")\n",
    "            visited.add(node)\n",
    "            stack.extend(reversed(Graph[node]))\n",
    "print(\"DFS using Stack:\")\n",
    "dfs_stack('A')"
   ]
  },
  {
   "cell_type": "markdown",
   "id": "abf8ece0",
   "metadata": {},
   "source": [
    "### **_Research about \"Inorder, Preorder, Postorder\" and implement in DFS_** ###"
   ]
  },
  {
   "cell_type": "markdown",
   "id": "e06b8084",
   "metadata": {},
   "source": [
    "#####  NOTE: This code is belong to Chat gpt  #####"
   ]
  },
  {
   "cell_type": "code",
   "execution_count": null,
   "id": "23783d29",
   "metadata": {},
   "outputs": [
    {
     "name": "stdout",
     "output_type": "stream",
     "text": [
      "\n",
      "Preorder Traversal:\n",
      "A B D E C F \n",
      "Inorder Traversal:\n",
      "D B E A C F \n",
      "Postorder Traversal:\n",
      "D E B F C A "
     ]
    }
   ],
   "source": [
    "class Node:\n",
    "    def __init__(self, data):\n",
    "        self.data = data\n",
    "        self.left = None\n",
    "        self.right = None\n",
    "\n",
    "# Preorder Traversal: Root -> Left -> Right\n",
    "def preorder(root):\n",
    "    if root:\n",
    "        print(root.data, end=\" \")\n",
    "        preorder(root.left)\n",
    "        preorder(root.right)\n",
    "\n",
    "# Inorder Traversal: Left -> Root -> Right\n",
    "def inorder(root):\n",
    "    if root:\n",
    "        inorder(root.left)\n",
    "        print(root.data, end=\" \")\n",
    "        inorder(root.right)\n",
    "\n",
    "# Postorder Traversal: Left -> Right -> Root\n",
    "def postorder(root):\n",
    "    if root:\n",
    "        postorder(root.left)\n",
    "        postorder(root.right)\n",
    "        print(root.data, end=\" \")\n",
    "\n",
    "# Example Tree\n",
    "#         A\n",
    "#        / \\\n",
    "#       B   C\n",
    "#      / \\   \\\n",
    "#     D   E   F\n",
    "\n",
    "root = Node(\"A\")\n",
    "root.left = Node(\"B\")\n",
    "root.right = Node(\"C\")\n",
    "root.left.left = Node(\"D\")\n",
    "root.left.right = Node(\"E\")\n",
    "root.right.right = Node(\"F\")\n",
    "\n",
    "print(\"\\nPreorder Traversal:\")\n",
    "preorder(root)\n",
    "\n",
    "print(\"\\nInorder Traversal:\")\n",
    "inorder(root)\n",
    "\n",
    "print(\"\\nPostorder Traversal:\")\n",
    "postorder(root)\n"
   ]
  }
 ],
 "metadata": {
  "kernelspec": {
   "display_name": "Python 3",
   "language": "python",
   "name": "python3"
  },
  "language_info": {
   "codemirror_mode": {
    "name": "ipython",
    "version": 3
   },
   "file_extension": ".py",
   "mimetype": "text/x-python",
   "name": "python",
   "nbconvert_exporter": "python",
   "pygments_lexer": "ipython3",
   "version": "3.13.5"
  }
 },
 "nbformat": 4,
 "nbformat_minor": 5
}
